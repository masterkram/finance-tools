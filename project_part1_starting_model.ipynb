{
 "cells": [
  {
   "cell_type": "markdown",
   "metadata": {},
   "source": [
    "### Import necessary packages"
   ]
  },
  {
   "cell_type": "code",
   "execution_count": 1,
   "metadata": {},
   "outputs": [
    {
     "name": "stdout",
     "output_type": "stream",
     "text": [
      "Requirement already satisfied: pandas in /home/mark/.local/lib/python3.8/site-packages (1.3.2)\n",
      "Requirement already satisfied: numpy>=1.17.3 in /home/mark/.local/lib/python3.8/site-packages (from pandas) (1.19.2)\n",
      "Requirement already satisfied: python-dateutil>=2.7.3 in /usr/lib/python3/dist-packages (from pandas) (2.7.3)\n",
      "Requirement already satisfied: pytz>=2017.3 in /usr/lib/python3/dist-packages (from pandas) (2019.3)\n",
      "Requirement already satisfied: pandas_datareader in /home/mark/.local/lib/python3.8/site-packages (0.10.0)\n",
      "Requirement already satisfied: lxml in /home/mark/.local/lib/python3.8/site-packages (from pandas_datareader) (4.6.3)\n",
      "Requirement already satisfied: pandas>=0.23 in /home/mark/.local/lib/python3.8/site-packages (from pandas_datareader) (1.3.2)\n",
      "Requirement already satisfied: requests>=2.19.0 in /usr/lib/python3/dist-packages (from pandas_datareader) (2.22.0)\n",
      "Requirement already satisfied: numpy>=1.17.3 in /home/mark/.local/lib/python3.8/site-packages (from pandas>=0.23->pandas_datareader) (1.19.2)\n",
      "Requirement already satisfied: python-dateutil>=2.7.3 in /usr/lib/python3/dist-packages (from pandas>=0.23->pandas_datareader) (2.7.3)\n",
      "Requirement already satisfied: pytz>=2017.3 in /usr/lib/python3/dist-packages (from pandas>=0.23->pandas_datareader) (2019.3)\n",
      "Requirement already satisfied: datetime in /home/mark/.local/lib/python3.8/site-packages (4.3)\n",
      "Requirement already satisfied: zope.interface in /usr/lib/python3/dist-packages (from datetime) (4.7.1)\n",
      "Requirement already satisfied: pytz in /usr/lib/python3/dist-packages (from datetime) (2019.3)\n",
      "Requirement already satisfied: statsmodels in /home/mark/.local/lib/python3.8/site-packages (0.12.2)\n",
      "Requirement already satisfied: patsy>=0.5 in /home/mark/.local/lib/python3.8/site-packages (from statsmodels) (0.5.1)\n",
      "Requirement already satisfied: pandas>=0.21 in /home/mark/.local/lib/python3.8/site-packages (from statsmodels) (1.3.2)\n",
      "Requirement already satisfied: scipy>=1.1 in /home/mark/.local/lib/python3.8/site-packages (from statsmodels) (1.7.1)\n",
      "Requirement already satisfied: numpy>=1.15 in /home/mark/.local/lib/python3.8/site-packages (from statsmodels) (1.19.2)\n",
      "Requirement already satisfied: six in /usr/lib/python3/dist-packages (from patsy>=0.5->statsmodels) (1.14.0)\n",
      "Requirement already satisfied: python-dateutil>=2.7.3 in /usr/lib/python3/dist-packages (from pandas>=0.21->statsmodels) (2.7.3)\n",
      "Requirement already satisfied: pytz>=2017.3 in /usr/lib/python3/dist-packages (from pandas>=0.21->statsmodels) (2019.3)\n"
     ]
    }
   ],
   "source": [
    "# Install required packages here if needed (remove '#')\n",
    "!pip3 install pandas\n",
    "!pip3 install pandas_datareader\n",
    "!pip3 install datetime\n",
    "!pip3 install statsmodels"
   ]
  },
  {
   "cell_type": "code",
   "execution_count": 2,
   "metadata": {},
   "outputs": [],
   "source": [
    "import pandas as pd\n",
    "import pandas_datareader as web\n",
    "import datetime\n",
    "import statsmodels.api as sm"
   ]
  },
  {
   "cell_type": "markdown",
   "metadata": {},
   "source": [
    "### Functions to import price data"
   ]
  },
  {
   "cell_type": "code",
   "execution_count": 3,
   "metadata": {},
   "outputs": [],
   "source": [
    "def read_price_data(stock_symbol, start_date, end_date, interval):\n",
    "    \"\"\"Import price data from Yahoo Finance\"\"\"\n",
    "    try:\n",
    "        stock_data = web.get_data_yahoo(stock_symbol, start_date, end_date, interval=interval)\n",
    "    except:\n",
    "        return None\n",
    "\n",
    "    prices = stock_data.loc[:, \"Adj Close\"]\n",
    "    prices = prices.fillna(method=\"ffill\")\n",
    "\n",
    "    return prices"
   ]
  },
  {
   "cell_type": "code",
   "execution_count": 4,
   "metadata": {},
   "outputs": [],
   "source": [
    "def get_date_list(stock_symbol, start_date, end_date, interval):\n",
    "    \"\"\"Generate list of trading dates\"\"\"\n",
    "    stock_data = web.get_data_yahoo(stock_symbol, start_date, end_date, interval=interval)\n",
    "    dates = stock_data.index\n",
    "    \n",
    "    return dates"
   ]
  },
  {
   "cell_type": "markdown",
   "metadata": {},
   "source": [
    "### Generate input table"
   ]
  },
  {
   "cell_type": "code",
   "execution_count": 5,
   "metadata": {
    "scrolled": false
   },
   "outputs": [
    {
     "data": {
      "text/html": [
       "<div>\n",
       "<style scoped>\n",
       "    .dataframe tbody tr th:only-of-type {\n",
       "        vertical-align: middle;\n",
       "    }\n",
       "\n",
       "    .dataframe tbody tr th {\n",
       "        vertical-align: top;\n",
       "    }\n",
       "\n",
       "    .dataframe thead th {\n",
       "        text-align: right;\n",
       "    }\n",
       "</style>\n",
       "<table border=\"1\" class=\"dataframe\">\n",
       "  <thead>\n",
       "    <tr style=\"text-align: right;\">\n",
       "      <th></th>\n",
       "      <th>Index price (^GSPC)</th>\n",
       "      <th>Stock price (MSFT)</th>\n",
       "    </tr>\n",
       "    <tr>\n",
       "      <th>Date</th>\n",
       "      <th></th>\n",
       "      <th></th>\n",
       "    </tr>\n",
       "  </thead>\n",
       "  <tbody>\n",
       "    <tr>\n",
       "      <th>2021-09-01</th>\n",
       "      <td>4458.580078</td>\n",
       "      <td>295.709991</td>\n",
       "    </tr>\n",
       "    <tr>\n",
       "      <th>2021-08-01</th>\n",
       "      <td>4522.680176</td>\n",
       "      <td>301.303192</td>\n",
       "    </tr>\n",
       "    <tr>\n",
       "      <th>2021-07-01</th>\n",
       "      <td>4395.259766</td>\n",
       "      <td>284.365601</td>\n",
       "    </tr>\n",
       "    <tr>\n",
       "      <th>2021-06-01</th>\n",
       "      <td>4297.500000</td>\n",
       "      <td>270.382385</td>\n",
       "    </tr>\n",
       "    <tr>\n",
       "      <th>2021-05-01</th>\n",
       "      <td>4204.109863</td>\n",
       "      <td>248.628799</td>\n",
       "    </tr>\n",
       "    <tr>\n",
       "      <th>...</th>\n",
       "      <td>...</td>\n",
       "      <td>...</td>\n",
       "    </tr>\n",
       "    <tr>\n",
       "      <th>2016-12-01</th>\n",
       "      <td>2238.830078</td>\n",
       "      <td>57.882114</td>\n",
       "    </tr>\n",
       "    <tr>\n",
       "      <th>2016-11-01</th>\n",
       "      <td>2198.810059</td>\n",
       "      <td>55.754288</td>\n",
       "    </tr>\n",
       "    <tr>\n",
       "      <th>2016-10-01</th>\n",
       "      <td>2126.149902</td>\n",
       "      <td>55.439716</td>\n",
       "    </tr>\n",
       "    <tr>\n",
       "      <th>2016-09-01</th>\n",
       "      <td>2168.270020</td>\n",
       "      <td>53.293175</td>\n",
       "    </tr>\n",
       "    <tr>\n",
       "      <th>2016-08-01</th>\n",
       "      <td>2170.949951</td>\n",
       "      <td>52.834351</td>\n",
       "    </tr>\n",
       "  </tbody>\n",
       "</table>\n",
       "<p>62 rows × 2 columns</p>\n",
       "</div>"
      ],
      "text/plain": [
       "            Index price (^GSPC)  Stock price (MSFT)\n",
       "Date                                               \n",
       "2021-09-01          4458.580078          295.709991\n",
       "2021-08-01          4522.680176          301.303192\n",
       "2021-07-01          4395.259766          284.365601\n",
       "2021-06-01          4297.500000          270.382385\n",
       "2021-05-01          4204.109863          248.628799\n",
       "...                         ...                 ...\n",
       "2016-12-01          2238.830078           57.882114\n",
       "2016-11-01          2198.810059           55.754288\n",
       "2016-10-01          2126.149902           55.439716\n",
       "2016-09-01          2168.270020           53.293175\n",
       "2016-08-01          2170.949951           52.834351\n",
       "\n",
       "[62 rows x 2 columns]"
      ]
     },
     "execution_count": 5,
     "metadata": {},
     "output_type": "execute_result"
    }
   ],
   "source": [
    "index_symbol = \"^GSPC\" # Index symbol (by default \"^GSPC\" for the S&P500 index)\n",
    "stock_symbol = \"MSFT\" # Stock symbol\n",
    "\n",
    "# Generate list of trading days\n",
    "start_date = datetime.datetime(2016, 8, 1)\n",
    "end_date = datetime.datetime(2021, 9, 1)\n",
    "interval = 'm' # Date interval, by default daily ('d')\n",
    "date_list = get_date_list(index_symbol, start_date, end_date, interval=interval)\n",
    "\n",
    "# Generate empty dataframe\n",
    "column_header_index = \"Index price ({})\".format(index_symbol)\n",
    "column_header_stock = \"Stock price ({})\".format(stock_symbol)\n",
    "df = pd.DataFrame(\n",
    "        columns=[column_header_index, column_header_stock], index=date_list\n",
    "    )\n",
    "\n",
    "# Sort dataframe based on date\n",
    "df = df.sort_index(ascending=False)  \n",
    "\n",
    "# Import price series into dataframe\n",
    "try:\n",
    "    price_series = read_price_data(index_symbol, start_date, end_date, interval=interval)\n",
    "    df[column_header_index] = price_series\n",
    "    \n",
    "    price_series = read_price_data(stock_symbol, start_date, end_date, interval=interval)\n",
    "    df[column_header_stock] = price_series  \n",
    "except:\n",
    "    print('Import failed')\n",
    "\n",
    "# Print dataframe\n",
    "df"
   ]
  },
  {
   "cell_type": "code",
   "execution_count": 6,
   "metadata": {},
   "outputs": [
    {
     "data": {
      "text/html": [
       "<div>\n",
       "<style scoped>\n",
       "    .dataframe tbody tr th:only-of-type {\n",
       "        vertical-align: middle;\n",
       "    }\n",
       "\n",
       "    .dataframe tbody tr th {\n",
       "        vertical-align: top;\n",
       "    }\n",
       "\n",
       "    .dataframe thead th {\n",
       "        text-align: right;\n",
       "    }\n",
       "</style>\n",
       "<table border=\"1\" class=\"dataframe\">\n",
       "  <thead>\n",
       "    <tr style=\"text-align: right;\">\n",
       "      <th></th>\n",
       "      <th>Index price (^GSPC)</th>\n",
       "      <th>Stock price (MSFT)</th>\n",
       "    </tr>\n",
       "    <tr>\n",
       "      <th>Date</th>\n",
       "      <th></th>\n",
       "      <th></th>\n",
       "    </tr>\n",
       "  </thead>\n",
       "  <tbody>\n",
       "    <tr>\n",
       "      <th>2016-09-30</th>\n",
       "      <td>-0.001234</td>\n",
       "      <td>0.008684</td>\n",
       "    </tr>\n",
       "    <tr>\n",
       "      <th>2016-10-31</th>\n",
       "      <td>-0.019426</td>\n",
       "      <td>0.040278</td>\n",
       "    </tr>\n",
       "    <tr>\n",
       "      <th>2016-11-30</th>\n",
       "      <td>0.034175</td>\n",
       "      <td>0.005674</td>\n",
       "    </tr>\n",
       "    <tr>\n",
       "      <th>2016-12-31</th>\n",
       "      <td>0.018201</td>\n",
       "      <td>0.038164</td>\n",
       "    </tr>\n",
       "    <tr>\n",
       "      <th>2017-01-31</th>\n",
       "      <td>0.017884</td>\n",
       "      <td>0.040393</td>\n",
       "    </tr>\n",
       "  </tbody>\n",
       "</table>\n",
       "</div>"
      ],
      "text/plain": [
       "            Index price (^GSPC)  Stock price (MSFT)\n",
       "Date                                               \n",
       "2016-09-30            -0.001234            0.008684\n",
       "2016-10-31            -0.019426            0.040278\n",
       "2016-11-30             0.034175            0.005674\n",
       "2016-12-31             0.018201            0.038164\n",
       "2017-01-31             0.017884            0.040393"
      ]
     },
     "execution_count": 6,
     "metadata": {},
     "output_type": "execute_result"
    }
   ],
   "source": [
    "mtl_ret = df.resample('M').ffill().pct_change()\n",
    "mtl_ret = mtl_ret.dropna(axis=0)\n",
    "mtl_ret.head()"
   ]
  },
  {
   "cell_type": "markdown",
   "metadata": {},
   "source": [
    "### Output:\n",
    "+ the (CAPM-)beta of the share, with the index taken as the market portfolio.\n",
    "+ the corresponding $R^2$ value\n",
    "+ a scatterplot depicting the underlying regression"
   ]
  },
  {
   "cell_type": "code",
   "execution_count": 7,
   "metadata": {},
   "outputs": [],
   "source": [
    "import matplotlib.pyplot as plt\n",
    "%matplotlib inline"
   ]
  },
  {
   "cell_type": "code",
   "execution_count": 8,
   "metadata": {
    "scrolled": true
   },
   "outputs": [
    {
     "data": {
      "text/plain": [
       "<matplotlib.legend.Legend at 0x7f6c8928ef40>"
      ]
     },
     "execution_count": 8,
     "metadata": {},
     "output_type": "execute_result"
    },
    {
     "data": {
      "image/png": "[encoded data removed]",
      "text/plain": [
       "<Figure size 720x576 with 1 Axes>"
      ]
     },
     "metadata": {
      "needs_background": "light"
     },
     "output_type": "display_data"
    }
   ],
   "source": [
    "# plot the stock and the index\n",
    "df[column_header_stock].plot(label=stock_symbol, figsize=(10,8))\n",
    "df[column_header_index].plot(label=\"S&P 500\")\n",
    "plt.legend()"
   ]
  },
  {
   "cell_type": "markdown",
   "metadata": {},
   "source": [
    "### CAPM Looks right\n",
    "\n",
    "+ Microsoft stock price appears to be following the market"
   ]
  },
  {
   "cell_type": "markdown",
   "metadata": {},
   "source": [
    "$\\beta = \\frac{\\sigma_i M}{\\sigma^2_M}$"
   ]
  },
  {
   "cell_type": "code",
   "execution_count": 14,
   "metadata": {},
   "outputs": [
    {
     "name": "stderr",
     "output_type": "stream",
     "text": [
      "/home/mark/.local/lib/python3.8/site-packages/statsmodels/tsa/tsatools.py:142: FutureWarning: In a future version of pandas all arguments of concat except for the argument 'objs' will be keyword-only\n",
      "  x = pd.concat(x[::order], 1)\n"
     ]
    }
   ],
   "source": [
    "X = mtl_ret[column_header_index]\n",
    "y = mtl_ret[column_header_stock]\n",
    "\n",
    "X_sm = sm.add_constant(X)"
   ]
  },
  {
   "cell_type": "code",
   "execution_count": 15,
   "metadata": {},
   "outputs": [],
   "source": [
    "model = sm.OLS(y, X_sm)"
   ]
  },
  {
   "cell_type": "code",
   "execution_count": 16,
   "metadata": {},
   "outputs": [],
   "source": [
    "results = model.fit()"
   ]
  },
  {
   "cell_type": "code",
   "execution_count": 17,
   "metadata": {
    "scrolled": false
   },
   "outputs": [
    {
     "data": {
      "text/html": [
       "<table class=\"simpletable\">\n",
       "<caption>OLS Regression Results</caption>\n",
       "<tr>\n",
       "  <th>Dep. Variable:</th>    <td>Stock price (MSFT)</td> <th>  R-squared:         </th> <td>   0.506</td>\n",
       "</tr>\n",
       "<tr>\n",
       "  <th>Model:</th>                    <td>OLS</td>        <th>  Adj. R-squared:    </th> <td>   0.498</td>\n",
       "</tr>\n",
       "<tr>\n",
       "  <th>Method:</th>              <td>Least Squares</td>   <th>  F-statistic:       </th> <td>   60.41</td>\n",
       "</tr>\n",
       "<tr>\n",
       "  <th>Date:</th>              <td>Sun, 12 Sep 2021</td>  <th>  Prob (F-statistic):</th> <td>1.33e-10</td>\n",
       "</tr>\n",
       "<tr>\n",
       "  <th>Time:</th>                  <td>13:04:28</td>      <th>  Log-Likelihood:    </th> <td>  122.00</td>\n",
       "</tr>\n",
       "<tr>\n",
       "  <th>No. Observations:</th>       <td>    61</td>       <th>  AIC:               </th> <td>  -240.0</td>\n",
       "</tr>\n",
       "<tr>\n",
       "  <th>Df Residuals:</th>           <td>    59</td>       <th>  BIC:               </th> <td>  -235.8</td>\n",
       "</tr>\n",
       "<tr>\n",
       "  <th>Df Model:</th>               <td>     1</td>       <th>                     </th>     <td> </td>   \n",
       "</tr>\n",
       "<tr>\n",
       "  <th>Covariance Type:</th>       <td>nonrobust</td>     <th>                     </th>     <td> </td>   \n",
       "</tr>\n",
       "</table>\n",
       "<table class=\"simpletable\">\n",
       "<tr>\n",
       "           <td></td>              <th>coef</th>     <th>std err</th>      <th>t</th>      <th>P>|t|</th>  <th>[0.025</th>    <th>0.975]</th>  \n",
       "</tr>\n",
       "<tr>\n",
       "  <th>const</th>               <td>    0.0198</td> <td>    0.004</td> <td>    4.437</td> <td> 0.000</td> <td>    0.011</td> <td>    0.029</td>\n",
       "</tr>\n",
       "<tr>\n",
       "  <th>Index price (^GSPC)</th> <td>    0.7778</td> <td>    0.100</td> <td>    7.772</td> <td> 0.000</td> <td>    0.578</td> <td>    0.978</td>\n",
       "</tr>\n",
       "</table>\n",
       "<table class=\"simpletable\">\n",
       "<tr>\n",
       "  <th>Omnibus:</th>       <td> 1.429</td> <th>  Durbin-Watson:     </th> <td>   2.510</td>\n",
       "</tr>\n",
       "<tr>\n",
       "  <th>Prob(Omnibus):</th> <td> 0.489</td> <th>  Jarque-Bera (JB):  </th> <td>   1.425</td>\n",
       "</tr>\n",
       "<tr>\n",
       "  <th>Skew:</th>          <td> 0.342</td> <th>  Prob(JB):          </th> <td>   0.490</td>\n",
       "</tr>\n",
       "<tr>\n",
       "  <th>Kurtosis:</th>      <td> 2.697</td> <th>  Cond. No.          </th> <td>    23.5</td>\n",
       "</tr>\n",
       "</table><br/><br/>Notes:<br/>[1] Standard Errors assume that the covariance matrix of the errors is correctly specified."
      ],
      "text/plain": [
       "<class 'statsmodels.iolib.summary.Summary'>\n",
       "\"\"\"\n",
       "                            OLS Regression Results                            \n",
       "==============================================================================\n",
       "Dep. Variable:     Stock price (MSFT)   R-squared:                       0.506\n",
       "Model:                            OLS   Adj. R-squared:                  0.498\n",
       "Method:                 Least Squares   F-statistic:                     60.41\n",
       "Date:                Sun, 12 Sep 2021   Prob (F-statistic):           1.33e-10\n",
       "Time:                        13:04:28   Log-Likelihood:                 122.00\n",
       "No. Observations:                  61   AIC:                            -240.0\n",
       "Df Residuals:                      59   BIC:                            -235.8\n",
       "Df Model:                           1                                         \n",
       "Covariance Type:            nonrobust                                         \n",
       "=======================================================================================\n",
       "                          coef    std err          t      P>|t|      [0.025      0.975]\n",
       "---------------------------------------------------------------------------------------\n",
       "const                   0.0198      0.004      4.437      0.000       0.011       0.029\n",
       "Index price (^GSPC)     0.7778      0.100      7.772      0.000       0.578       0.978\n",
       "==============================================================================\n",
       "Omnibus:                        1.429   Durbin-Watson:                   2.510\n",
       "Prob(Omnibus):                  0.489   Jarque-Bera (JB):                1.425\n",
       "Skew:                           0.342   Prob(JB):                        0.490\n",
       "Kurtosis:                       2.697   Cond. No.                         23.5\n",
       "==============================================================================\n",
       "\n",
       "Notes:\n",
       "[1] Standard Errors assume that the covariance matrix of the errors is correctly specified.\n",
       "\"\"\""
      ]
     },
     "execution_count": 17,
     "metadata": {},
     "output_type": "execute_result"
    }
   ],
   "source": [
    "results.summary()"
   ]
  },
  {
   "cell_type": "code",
   "execution_count": 22,
   "metadata": {},
   "outputs": [
    {
     "data": {
      "text/plain": [
       "0.01975153634494822"
      ]
     },
     "execution_count": 22,
     "metadata": {},
     "output_type": "execute_result"
    }
   ],
   "source": [
    "# alpha\n",
    "results.params[0]"
   ]
  },
  {
   "cell_type": "code",
   "execution_count": 23,
   "metadata": {},
   "outputs": [
    {
     "data": {
      "text/plain": [
       "0.777843743789187"
      ]
     },
     "execution_count": 23,
     "metadata": {},
     "output_type": "execute_result"
    }
   ],
   "source": [
    "# beta\n",
    "results.params[1]"
   ]
  },
  {
   "cell_type": "code",
   "execution_count": 19,
   "metadata": {},
   "outputs": [
    {
     "data": {
      "text/plain": [
       "0.5059073594261803"
      ]
     },
     "execution_count": 19,
     "metadata": {},
     "output_type": "execute_result"
    }
   ],
   "source": [
    "# r-squared\n",
    "results.rsquared"
   ]
  },
  {
   "cell_type": "markdown",
   "metadata": {},
   "source": [
    "let's make that into a function real quick"
   ]
  },
  {
   "cell_type": "code",
   "execution_count": null,
   "metadata": {},
   "outputs": [],
   "source": [
    "def generateDataFrame(index_symbol, stock_symbol):\n",
    "    column_header_index = \"Index price ({})\".format(index_symbol)\n",
    "    column_header_stock = \"Stock price ({})\".format(stock_symbol)\n",
    "    df = pd.DataFrame(\n",
    "        columns=[column_header_index, column_header_stock], index=date_list\n",
    "    )\n",
    "\n",
    "    # Sort dataframe based on date\n",
    "    df = df.sort_index(ascending=False)\n",
    "    return df"
   ]
  },
  {
   "cell_type": "code",
   "execution_count": null,
   "metadata": {},
   "outputs": [],
   "source": [
    "def populateDataFrame(df, index_symbol, stock_symbol, start_date, end_date)\n",
    "    try:\n",
    "        price_series = read_price_data(index_symbol, start_date, end_date, interval=interval)\n",
    "        df[column_header_index] = price_series\n",
    "    \n",
    "        price_series = read_price_data(stock_symbol, start_date, end_date, interval=interval)\n",
    "        df[column_header_stock] = price_series  \n",
    "    except:\n",
    "        print('Import failed')"
   ]
  },
  {
   "cell_type": "code",
   "execution_count": null,
   "metadata": {},
   "outputs": [],
   "source": [
    "params = {\n",
    "    \"start_date\": [2016, 8, 1],\n",
    "    \"end_date\": [2021, 9, 1],\n",
    "    \"date_interval\": \"m\",\n",
    "    \"stock_symbol\": \"TSLA\",\n",
    "    \"index_symbol\": \"^GSPC\"\n",
    "}\n",
    "\n",
    "def calculateCAPMvalues(params):\n",
    "    dataFrame = generateDataFrame(params[\"index_symbol\"], params[\"stock_symbol\"])\n",
    "    populateDataFrame(dataFrame, params[\"index_symbol\"], params[\"stock_symbol\"])\n",
    "    \n",
    "    "
   ]
  },
  {
   "cell_type": "code",
   "execution_count": 24,
   "metadata": {},
   "outputs": [
    {
     "data": {
      "image/png": "[encoded data removed]",
      "text/plain": [
       "<Figure size 432x288 with 1 Axes>"
      ]
     },
     "metadata": {
      "needs_background": "light"
     },
     "output_type": "display_data"
    }
   ],
   "source": [
    "import matplotlib.pyplot as plt\n",
    "\n",
    "plt.scatter(mtl_ret[column_header_index], mtl_ret[column_header_stock], marker='o')\n",
    "plt.xlabel('stock')\n",
    "plt.ylabel('index')\n",
    "plt.show()"
   ]
  },
  {
   "cell_type": "markdown",
   "metadata": {},
   "source": [
    "### Example of mathematical notation using LaTeX syntax\n",
    "CAPM: $\\mathbb{E}(R_i)=R_f+\\beta_i (\\mathbb{E}(R_m)-R_f)$ "
   ]
  },
  {
   "cell_type": "code",
   "execution_count": 26,
   "metadata": {},
   "outputs": [
    {
     "data": {
      "image/png": "[encoded data removed]",
      "text/plain": [
       "<Figure size 432x288 with 1 Axes>"
      ]
     },
     "execution_count": 26,
     "metadata": {},
     "output_type": "execute_result"
    },
    {
     "data": {
      "image/png": "[encoded data removed]",
      "text/plain": [
       "<Figure size 432x288 with 1 Axes>"
      ]
     },
     "metadata": {
      "needs_background": "light"
     },
     "output_type": "display_data"
    }
   ],
   "source": [
    "from statsmodels.graphics.regressionplots import abline_plot\n",
    "ax = mtl_ret.plot(x=column_header_index, y=column_header_stock, kind='scatter')\n",
    "abline_plot(model_results=results, ax=ax)"
   ]
  },
  {
   "cell_type": "markdown",
   "metadata": {},
   "source": [
    "Now compute the beta of ford tesla priceline and expedia"
   ]
  },
  {
   "cell_type": "code",
   "execution_count": null,
   "metadata": {},
   "outputs": [],
   "source": []
  }
 ],
 "metadata": {
  "kernelspec": {
   "display_name": "Python 3 (ipykernel)",
   "language": "python",
   "name": "python3"
  },
  "language_info": {
   "codemirror_mode": {
    "name": "ipython",
    "version": 3
   },
   "file_extension": ".py",
   "mimetype": "text/x-python",
   "name": "python",
   "nbconvert_exporter": "python",
   "pygments_lexer": "ipython3",
   "version": "3.8.10"
  }
 },
 "nbformat": 4,
 "nbformat_minor": 4
}
